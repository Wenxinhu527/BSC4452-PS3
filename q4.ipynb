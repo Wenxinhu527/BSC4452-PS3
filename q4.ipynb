{
 "cells": [
  {
   "cell_type": "code",
   "execution_count": 29,
   "id": "95b0447e-b375-4ad5-9c69-eb769310fcab",
   "metadata": {
    "tags": []
   },
   "outputs": [],
   "source": [
    "import pandas as pd\n",
    "\n",
    "# read the .csv file\n",
    "df = pd.read_csv('/blue/bsc4452/share/Class_Files/data/CO-OPS_8727520_wl.csv')"
   ]
  },
  {
   "cell_type": "code",
   "execution_count": 30,
   "id": "7f51863c-65b4-4e60-a5c4-7f614618640c",
   "metadata": {
    "tags": []
   },
   "outputs": [
    {
     "name": "stdout",
     "output_type": "stream",
     "text": [
      "Warning: The water level is over 5.0!\n"
     ]
    }
   ],
   "source": [
    "# set the initial variables\n",
    "increase_level = 0\n",
    "water_level = 0\n",
    "\n",
    "# start searching\n",
    "for i in range(len(df['Preliminary (ft)'])):\n",
    "    water_level = df['Preliminary (ft)'][i]\n",
    "    \n",
    "    # check for empty value\n",
    "    if pd.isna(water_level):\n",
    "        # (optional) print the current data that triggers\n",
    "        #print(df['Date'][i], df['Time (GMT)'][i] + ':', water_level)\n",
    "        \n",
    "        # print the warning message\n",
    "        print('Warning: No reading is received at a time point!')\n",
    "    \n",
    "    # not an empty value\n",
    "    else:\n",
    "        # check for the first value\n",
    "        if i == 0:\n",
    "            increase_level = 0\n",
    "            \n",
    "        # not the first value\n",
    "        else:\n",
    "            increase_level = df['Preliminary (ft)'][i] - water_level\n",
    "            \n",
    "        # check if the increase level > 0.25\n",
    "        if increase_level > 0.25:\n",
    "            # (optional) print the current data that triggers\n",
    "            #print(df['Date'][i], df['Time (GMT)'][i] + ':', water_level)\n",
    "            \n",
    "            # print the warning message\n",
    "            print('Warning: The water level increases more than 0.25 since the previous recording!')\n",
    "            break\n",
    "        \n",
    "        # check if the water level > 5.0\n",
    "        if water_level > 5.0:\n",
    "            # (optional) print the current data that triggers\n",
    "            #print(df['Date'][i], df['Time (GMT)'][i] + ':', water_level)\n",
    "            \n",
    "            # print the warning message\n",
    "            print('Warning: The water level is over 5.0!')\n",
    "            break"
   ]
  }
 ],
 "metadata": {
  "kernelspec": {
   "display_name": "UFRC Python-3.10",
   "language": "python",
   "name": "python3-3.10-ufrc"
  },
  "language_info": {
   "codemirror_mode": {
    "name": "ipython",
    "version": 3
   },
   "file_extension": ".py",
   "mimetype": "text/x-python",
   "name": "python",
   "nbconvert_exporter": "python",
   "pygments_lexer": "ipython3",
   "version": "3.10.8"
  }
 },
 "nbformat": 4,
 "nbformat_minor": 5
}
