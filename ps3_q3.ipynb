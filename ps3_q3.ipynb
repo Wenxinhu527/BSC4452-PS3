{
 "cells": [
  {
   "cell_type": "code",
   "execution_count": null,
   "id": "be9cd760-7f8e-48fd-8397-70517b2a3340",
   "metadata": {},
   "outputs": [],
   "source": [
    "#Write a script (or Jupyter Notebook) that calculates the fastest rise in water level per 6-minute period between measurements (for this assignment, assume that each line of the dataset is a 6-minute interval) and reports the date and time that was observed and the change in water level from the previous recording."
   ]
  },
  {
   "cell_type": "code",
   "execution_count": 36,
   "id": "e1d54999-8028-4307-8530-70fc917759a5",
   "metadata": {
    "tags": []
   },
   "outputs": [
    {
     "name": "stdout",
     "output_type": "stream",
     "text": [
      "\"2024/09/27\",\"01:12\", 0.6099999999999994 253\n"
     ]
    }
   ],
   "source": [
    "fhand = open('/blue/bsc4452/share/Class_Files/data/CO-OPS_8727520_wl.csv')\n",
    "Rise=0\n",
    "change_level =0\n",
    "Preliminary=3.72#first value\n",
    "next(fhand) #remove head\n",
    "count=0\n",
    "for line in fhand:#check line by line\n",
    "    count+=1\n",
    "    if count==152:#cacluate line 152 separately\n",
    "        float(change_level) < (5.86)- 5.81\n",
    "        change_level= 5.86-5.81\n",
    "        T_D=line[0:21]#record time and date\n",
    "        x=count\n",
    "        Preliminary=5.86\n",
    "       \n",
    "    elif float(change_level) < (float(line[27:][:-5].replace(',', '').replace('\"', '')))- float (Preliminary):#whether new level change is large one\n",
    "        change_level= float(line[27:][:-5].replace(',', '').replace('\"', ''))-float (Preliminary) #new level minus last time level\n",
    "        T_D=line[0:21]#record time and date\n",
    "        x=count#show which line go this elif, not necessary, just for easily check\n",
    "        Preliminary=float(line[27:][:-5].replace(',', '').replace('\"', ''))#remember this line value for next line \n",
    "    else:\n",
    "        Preliminary=float(line[27:][:-5].replace(',', '').replace('\"', ''))\n",
    "print(T_D, change_level,x) #date,time,change in water level, x for you to check\n",
    "     "
   ]
  },
  {
   "cell_type": "code",
   "execution_count": null,
   "id": "507d7cda-8652-4a75-b4fe-d4f2272a02ca",
   "metadata": {},
   "outputs": [],
   "source": []
  }
 ],
 "metadata": {
  "kernelspec": {
   "display_name": "UFRC Python-3.10",
   "language": "python",
   "name": "python3-3.10-ufrc"
  },
  "language_info": {
   "codemirror_mode": {
    "name": "ipython",
    "version": 3
   },
   "file_extension": ".py",
   "mimetype": "text/x-python",
   "name": "python",
   "nbconvert_exporter": "python",
   "pygments_lexer": "ipython3",
   "version": "3.10.8"
  },
  "toc-autonumbering": true,
  "toc-showcode": true,
  "toc-showmarkdowntxt": true
 },
 "nbformat": 4,
 "nbformat_minor": 5
}
